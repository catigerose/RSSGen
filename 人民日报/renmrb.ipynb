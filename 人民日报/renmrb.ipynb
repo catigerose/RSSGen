{
 "cells": [
  {
   "cell_type": "code",
   "execution_count": 1,
   "id": "313823c8",
   "metadata": {},
   "outputs": [],
   "source": [
    "import datetime\n",
    "import PyRSS2Gen\n",
    "import requests\n",
    "import time\n",
    "from bs4 import BeautifulSoup\n",
    "from datetime import date"
   ]
  },
  {
   "cell_type": "markdown",
   "id": "9744fa4a",
   "metadata": {},
   "source": [
    "# 1. 获取今天的日期（年，月，日） "
   ]
  },
  {
   "cell_type": "code",
   "execution_count": 2,
   "id": "df6001cd",
   "metadata": {},
   "outputs": [],
   "source": [
    "today = date.today()"
   ]
  },
  {
   "cell_type": "code",
   "execution_count": 3,
   "id": "a0b5a753",
   "metadata": {},
   "outputs": [],
   "source": [
    "year= today.year\n",
    "month =today.month \n",
    "day= today.day\n",
    "weekday =today.weekday()#周末排版不一样"
   ]
  },
  {
   "cell_type": "code",
   "execution_count": 4,
   "id": "732a5037",
   "metadata": {},
   "outputs": [],
   "source": [
    "str_today = '{}-{}/{}/'.format(year, month, day)#拼接成url需要的格式\n",
    "#str_today"
   ]
  },
  {
   "cell_type": "markdown",
   "id": "dabdb9cf",
   "metadata": {},
   "source": [
    "# 2.生成要爬取的url组"
   ]
  },
  {
   "cell_type": "code",
   "execution_count": 5,
   "id": "383499cd",
   "metadata": {},
   "outputs": [],
   "source": [
    "domain = \"http://paper.people.com.cn/rmrb/html/\"+str_today  #url和新闻详情页 前面公用的域名"
   ]
  },
  {
   "cell_type": "code",
   "execution_count": 6,
   "id": "233253c0",
   "metadata": {},
   "outputs": [],
   "source": [
    "spaces1 = [\"01.htm\",\"02.htm\",\"03.htm\",\"04.htm\",\"05.htm\",\"06.htm\",\"07.htm\",\"08.htm\",\"09.htm\",\"10.htm\",\"14.htm\",\"17.htm\"] #工作日新闻版面类别\n",
    "spaces2 = [\"01.htm\",\"02.htm\",\"03.htm\",\"04.htm\",\"05.htm\"] #周末新闻版面类别\n",
    "\n",
    "if weekday in [5,6]:\n",
    "    spaces = spaces2 \n",
    "else:\n",
    "    spaces = spaces21\n",
    "\n",
    "urls =[]\n",
    "\n",
    "for space in spaces:    \n",
    "   urls.append(domain+\"nbs.D110000renmrb_\"  + space) \n"
   ]
  },
  {
   "cell_type": "code",
   "execution_count": 7,
   "id": "9ae2e2c7",
   "metadata": {},
   "outputs": [
    {
     "data": {
      "text/plain": [
       "['http://paper.people.com.cn/rmrb/html/2022-11/12/nbs.D110000renmrb_01.htm',\n",
       " 'http://paper.people.com.cn/rmrb/html/2022-11/12/nbs.D110000renmrb_02.htm',\n",
       " 'http://paper.people.com.cn/rmrb/html/2022-11/12/nbs.D110000renmrb_03.htm',\n",
       " 'http://paper.people.com.cn/rmrb/html/2022-11/12/nbs.D110000renmrb_04.htm',\n",
       " 'http://paper.people.com.cn/rmrb/html/2022-11/12/nbs.D110000renmrb_05.htm']"
      ]
     },
     "execution_count": 7,
     "metadata": {},
     "output_type": "execute_result"
    }
   ],
   "source": [
    "urls"
   ]
  },
  {
   "cell_type": "markdown",
   "id": "309e9e4a",
   "metadata": {},
   "source": [
    "# 3. 爬取版面内的新闻"
   ]
  },
  {
   "cell_type": "code",
   "execution_count": 8,
   "id": "6173697b",
   "metadata": {},
   "outputs": [],
   "source": [
    "#请求头\n",
    "headers = { \"user_agent\": \"Mozilla/5.0 (Windows NT 10.0; Win64; x64) AppleWebKit/537.36 (KHTML, like Gecko) Chrome/105.0.0.0 Safari/537.36\",\n",
    "}"
   ]
  },
  {
   "cell_type": "code",
   "execution_count": 9,
   "id": "d10e2d70",
   "metadata": {},
   "outputs": [],
   "source": [
    "#该函数获取详情页的新闻内容\n",
    "def get_text(news_link):\n",
    "    detialHtml=requests.get(news_link,headers=headers)\n",
    "    detialHtml.encoding = detialHtml.apparent_encoding \n",
    "    soup = BeautifulSoup(detialHtml.text, 'html.parser') # 构建beautifulsoup实例\n",
    "    news_detail = soup.find(\"div\", class_=\"article\")#获取新闻内容详情\n",
    "    news_detail =news_detail.text\n",
    "    return news_detail"
   ]
  },
  {
   "cell_type": "code",
   "execution_count": 10,
   "id": "f6c3f96a",
   "metadata": {},
   "outputs": [],
   "source": [
    "#新闻标题、详情页、新闻内容链接 存入数组中\n",
    "news_links = []\n",
    "news_titles=[]\n",
    "news_details = []\n",
    "for url in urls:\n",
    "    ret = requests.get(url,headers=headers)\n",
    "    ret.encoding = ret.apparent_encoding \n",
    "    time.sleep(1)    \n",
    "    soup = BeautifulSoup(ret.text, 'html.parser') # 构建beautifulsoup实例\n",
    "    \n",
    "    news_list = soup.find(\"ul\", class_=\"news-list\").find_all (\"a\")#获取新闻列表\n",
    "    \n",
    "    for news in  news_list:\n",
    "        news_link = domain + news.attrs['href']   #详情页的url        \n",
    "        news_title = news.get_text()  #新闻的标题\n",
    "        news_detail = get_text(news_link)\n",
    "        \n",
    "        news_links.append(news_link)\n",
    "        news_titles.append(news_title)\n",
    "        news_details.append(news_detail)"
   ]
  },
  {
   "cell_type": "markdown",
   "id": "9068eacd",
   "metadata": {},
   "source": [
    "# 4.生成RSS的xml文件"
   ]
  },
  {
   "cell_type": "code",
   "execution_count": 11,
   "id": "6f5f07d3",
   "metadata": {},
   "outputs": [],
   "source": [
    "#该函数使用新闻的标题、链接、新闻内容，生成 PyRSS2Gen.RSS2函数所需要的参数 items\n",
    "def gen_rssitems(news_titles,news_links,news_details):\n",
    "    pubDate_now =datetime.datetime.now()\n",
    "    rssitems=[]\n",
    "    \n",
    "    for i in range(len(news_titles)):\n",
    "        rssitem = PyRSS2Gen.RSSItem(\n",
    "         title = news_titles[i],\n",
    "         link = news_links[i],\n",
    "\n",
    "         description = news_details[i],\n",
    "         #description = news_titles[i],\n",
    "         pubDate =pubDate_now)\n",
    "        \n",
    "        rssitems.append(rssitem)\n",
    "    return rssitems\n",
    "        "
   ]
  },
  {
   "cell_type": "code",
   "execution_count": 14,
   "id": "1eff09be",
   "metadata": {},
   "outputs": [],
   "source": [
    "if __name__ == '__main__':\n",
    "    rss = PyRSS2Gen.RSS2(\n",
    "    title = \"人民日报\",\n",
    "    link = \"http://paper.people.com.cn/\",\n",
    "    description = \" 人民日报每日重要新闻 \",\n",
    "\n",
    "\n",
    "    lastBuildDate = datetime.datetime.now(),\n",
    "\n",
    "    items =gen_rssitems(news_titles,news_links,news_details))\n",
    "    rss.write_xml(open(\"./home/renmrb.xml\", \"w\",encoding='UTF-16'))"
   ]
  },
  {
   "cell_type": "code",
   "execution_count": null,
   "id": "248d43d0",
   "metadata": {},
   "outputs": [],
   "source": [
    "\n",
    "    "
   ]
  },
  {
   "cell_type": "code",
   "execution_count": null,
   "id": "d3e4187d",
   "metadata": {},
   "outputs": [],
   "source": []
  }
 ],
 "metadata": {
  "kernelspec": {
   "display_name": "Python 3 (ipykernel)",
   "language": "python",
   "name": "python3"
  },
  "language_info": {
   "codemirror_mode": {
    "name": "ipython",
    "version": 3
   },
   "file_extension": ".py",
   "mimetype": "text/x-python",
   "name": "python",
   "nbconvert_exporter": "python",
   "pygments_lexer": "ipython3",
   "version": "3.9.13"
  }
 },
 "nbformat": 4,
 "nbformat_minor": 5
}
